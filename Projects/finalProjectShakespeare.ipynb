{
 "cells": [
  {
   "cell_type": "markdown",
   "metadata": {},
   "source": [
    "# Final Project - William Shakespeare \n",
    "### by Juan Montoya "
   ]
  },
  {
   "cell_type": "code",
   "execution_count": 16,
   "metadata": {},
   "outputs": [],
   "source": [
    "# import dependencies here\n",
    "import pandas as pd \n",
    "import requests\n",
    "import json\n",
    "import sklearn\n",
    "from sklearn.feature_extraction.text import CountVectorizer, TfidfVectorizer, TfidfTransformer\n",
    "from sklearn.decomposition import PCA\n",
    "import nltk"
   ]
  },
  {
   "cell_type": "markdown",
   "metadata": {},
   "source": [
    "## Introduction"
   ]
  },
  {
   "attachments": {},
   "cell_type": "markdown",
   "metadata": {},
   "source": [
    "My inspiration for working with William Shakespeare is mainly my early education. To this day, I remember elementary, middle school, and high school English classes being riddled with Shakespeare's work making him the most hated and loved writer in educational history. Mainly, this is because at a young age, Shakespeare is polarizing, and it is not until later, Junior and Senior year of high school where one might begin to gain a different level of appreciation for his work. In fact, this is what happened to me. I did not begin to start enjoying Shakespeare until high school where his plays were less boring and difficult and more dynamic and emotional. In fact, in doing some research regarding Shakespeare's popularity across the world one begins to get a sense that his immortality is attributed to his works being diverse and dynamic which is why people are able to relate to his work. Thus, it is Shakespeare’s relevance to everyday life combined with the drama loving phycology of humans that attracts so many people to his work and thus completes the full circle. Hence, it is this full circle that I am so intrigued with. Are William Shakespeare’s works really so diverse and overarching that allows people from different tastes to be more easily engaged? That is the question I have been wondering since my early childhood and something that we can test through comparing his different works through two main literary computational methods by measuring stylometry. One is Tf-IDF which gives one the comparative understanding Shakespeare’s works by focusing on the term frequency adjusted for inverse document frequency. The second is Principle Component Analysis which reduced the works components (i.e. 400 most common words) into two dimensions so that it can be easily graphed on the cartesian plane. Mainly, I believe that Shakespeare has some of the most diverse plays making him the great he is now."
   ]
  },
  {
   "cell_type": "code",
   "execution_count": 17,
   "metadata": {},
   "outputs": [],
   "source": [
    "# Get metadata for William Shakespeare\n",
    "response = requests.get('http://corpus-db.org/api/author/Shakespeare,%20William')"
   ]
  },
  {
   "cell_type": "code",
   "execution_count": 18,
   "metadata": {},
   "outputs": [],
   "source": [
    "parsedResponse = json.loads(response.text)"
   ]
  },
  {
   "cell_type": "code",
   "execution_count": 19,
   "metadata": {},
   "outputs": [
    {
     "name": "stdout",
     "output_type": "stream",
     "text": [
      "306\n"
     ]
    }
   ],
   "source": [
    "# Returns title of all works by William Shakespeare \n",
    "shakespeareWorksTitles = [item['title'] for item in parsedResponse]\n",
    "print(len(shakespeareWorksTitles))"
   ]
  },
  {
   "cell_type": "markdown",
   "metadata": {},
   "source": [
    "There are a total of 306 works by William Shakespeare."
   ]
  },
  {
   "cell_type": "code",
   "execution_count": 20,
   "metadata": {},
   "outputs": [],
   "source": [
    "# Top ten most popular Shakespeare works\n",
    "hamlet = parsedResponse[107]\n",
    "macbeth = parsedResponse[75]\n",
    "juliusCaesar = parsedResponse[64]\n",
    "theTempest = parsedResponse[38]\n",
    "firstPartHenryFourth = parsedResponse[18]\n",
    "kingLear = parsedResponse[31]\n",
    "romeoAndJuliet = parsedResponse[55]\n",
    "kingJohn = parsedResponse[13]\n",
    "muchAdoAboutNothing = parsedResponse[21]\n",
    "theWintersTale = parsedResponse[37]"
   ]
  },
  {
   "cell_type": "code",
   "execution_count": 21,
   "metadata": {},
   "outputs": [],
   "source": [
    "# Turning the top ten works by Shakespeare into a list\n",
    "shakespeareCorpusMeta = [hamlet, macbeth, juliusCaesar, theTempest, \n",
    "                         firstPartHenryFourth, kingLear, romeoAndJuliet, \n",
    "                         kingJohn, muchAdoAboutNothing, theWintersTale\n",
    "                         ]"
   ]
  },
  {
   "cell_type": "code",
   "execution_count": 22,
   "metadata": {},
   "outputs": [
    {
     "data": {
      "text/plain": [
       "['1787.0',\n",
       " '1533.0',\n",
       " '1522.0',\n",
       " '1135.0',\n",
       " '1115.0',\n",
       " '1128.0',\n",
       " '1513.0',\n",
       " '1110.0',\n",
       " '1118.0',\n",
       " '1134.0']"
      ]
     },
     "execution_count": 22,
     "metadata": {},
     "output_type": "execute_result"
    }
   ],
   "source": [
    "# Retrieving all the Id's for the ten works\n",
    "shakespeareCorpusIds = [item['id'] for item in shakespeareCorpusMeta]\n",
    "shakespeareCorpusIds"
   ]
  },
  {
   "cell_type": "code",
   "execution_count": 23,
   "metadata": {},
   "outputs": [],
   "source": [
    "def getFullText(bookId): \n",
    "    url = f'http://corpus-db.org/api/id/{bookId}/fulltext'\n",
    "    response = requests.get(url)\n",
    "    if response.ok: \n",
    "        bookText = json.loads(response.text)\n",
    "        return bookText[0]['text']\n",
    "    else:\n",
    "        print('ERROR')"
   ]
  },
  {
   "cell_type": "markdown",
   "metadata": {},
   "source": [
    "shakespeareTexts are the texts, from parsedResponse, with ten texts which are one for eahc of the top ten selected.  "
   ]
  },
  {
   "cell_type": "code",
   "execution_count": 24,
   "metadata": {},
   "outputs": [],
   "source": [
    "shakespeareTexts = []\n",
    "for bookId in shakespeareCorpusIds:\n",
    "    shakespeareTexts.append(getFullText(bookId))"
   ]
  },
  {
   "cell_type": "markdown",
   "metadata": {},
   "source": [
    "shakespeareTitles are the top ten Shakespeare works that I have selected. "
   ]
  },
  {
   "cell_type": "code",
   "execution_count": 25,
   "metadata": {},
   "outputs": [
    {
     "data": {
      "text/plain": [
       "['Hamlet',\n",
       " 'Macbeth',\n",
       " 'Julius Caesar',\n",
       " 'The Tempest',\n",
       " 'The First Part of King Henry the Fourth',\n",
       " 'The Tragedy of King Lear',\n",
       " 'Romeo and Juliet',\n",
       " 'King John',\n",
       " 'Much Ado about Nothing',\n",
       " \"The Winter's Tale\"]"
      ]
     },
     "execution_count": 25,
     "metadata": {},
     "output_type": "execute_result"
    }
   ],
   "source": [
    "shakespeareTitles = [book['title'] for book in shakespeareCorpusMeta]\n",
    "shakespeareTitles"
   ]
  },
  {
   "cell_type": "code",
   "execution_count": 26,
   "metadata": {},
   "outputs": [],
   "source": [
    "# Joining the ten Titles with the ten texts for those titles \n",
    "shakespeareTitlesAndTexts = list(zip(shakespeareTitles, shakespeareTexts))"
   ]
  },
  {
   "cell_type": "markdown",
   "metadata": {},
   "source": [
    "### Tf-IDF"
   ]
  },
  {
   "cell_type": "code",
   "execution_count": 27,
   "metadata": {},
   "outputs": [],
   "source": [
    "#Tf-IDF\n",
    "tfidfVectorizer = TfidfVectorizer(min_df=1.0, max_features=400, use_idf=False)"
   ]
  },
  {
   "cell_type": "code",
   "execution_count": 28,
   "metadata": {},
   "outputs": [],
   "source": [
    "shakespeareFreq = tfidfVectorizer.fit_transform(shakespeareTexts).todense()"
   ]
  },
  {
   "cell_type": "code",
   "execution_count": 29,
   "metadata": {},
   "outputs": [],
   "source": [
    "shakespeareWordNames = tfidfVectorizer.get_feature_names()"
   ]
  },
  {
   "cell_type": "code",
   "execution_count": 31,
   "metadata": {},
   "outputs": [
    {
     "data": {
      "text/plain": [
       "<matplotlib.axes._subplots.AxesSubplot at 0x7f92834f2cd0>"
      ]
     },
     "execution_count": 31,
     "metadata": {},
     "output_type": "execute_result"
    },
    {
     "data": {
      "image/png": "[encoded data removed]",
      "text/plain": [
       "<Figure size 432x288 with 1 Axes>"
      ]
     },
     "metadata": {
      "needs_background": "light"
     },
     "output_type": "display_data"
    }
   ],
   "source": [
    "shakespeareDfLove = pd.DataFrame(shakespeareFreq, columns=shakespeareWordNames, index=shakespeareTitles)\n",
    "pd.Series(shakespeareDfLove['love']).sort_values(ascending=False).plot(kind='bar')"
   ]
  },
  {
   "cell_type": "markdown",
   "metadata": {},
   "source": [
    "#### Tf-IDF Conclusions for Love"
   ]
  },
  {
   "attachments": {},
   "cell_type": "markdown",
   "metadata": {},
   "source": [
    "I decided to test for the presence of 'love' across his ten most popular works and of course 'love' appears the most in *Romeo and Juliet* which makes sense since *Romeo and Juliet* is all about romance (and tragedy), but mainly romance. Whereas, 'love' appears the least in *The Tempest* since *The Tempest* is mainly about betrayal, murder, disasters, and revenge with little romance. Furthermore, I plotted the chart in descending order because it is easier to visualize the presence of 'love' across his ten most popular works. More specifically, it is easier to visualize how some of his works revolve around ‘love’ and how some of his works do not, meaning that there’s some other motif/theme that is more poplar which contributes the distinction among his works."
   ]
  },
  {
   "cell_type": "markdown",
   "metadata": {},
   "source": [
    "#### Tf-IDF Conclusions for Cry"
   ]
  },
  {
   "cell_type": "code",
   "execution_count": 33,
   "metadata": {},
   "outputs": [
    {
     "data": {
      "text/plain": [
       "<matplotlib.axes._subplots.AxesSubplot at 0x7f92836b8490>"
      ]
     },
     "execution_count": 33,
     "metadata": {},
     "output_type": "execute_result"
    },
    {
     "data": {
      "image/png": "[encoded data removed]",
      "text/plain": [
       "<Figure size 432x288 with 1 Axes>"
      ]
     },
     "metadata": {
      "needs_background": "light"
     },
     "output_type": "display_data"
    }
   ],
   "source": [
    "shakespeareDfCry = pd.DataFrame(shakespeareFreq, columns=shakespeareWordNames, index=shakespeareTitles)\n",
    "pd.Series(shakespeareDfCry['cry']).sort_values(ascending=False).plot(kind='bar')"
   ]
  },
  {
   "attachments": {},
   "cell_type": "markdown",
   "metadata": {},
   "source": [
    "I decided to test 'cry' as the second word for Tf-IDF because its result looked like a normal distribution, which shows the even variety in Shakespeare’s works. For example, *The Tempest* and *Julius Caesar* have the most instances of 'cry' which makes sense because both works revolve around tears and emotional pain through revenge, backstabbing’s, and incestuous desire. Furthermore, in the case of *The Tempest*, noises are a big part of the stories development which adds to the value derived from the word 'cry' since 'cry' is both an emotion, sound, and appearance. I too, decided to plot this graph in descending order to better visualize the distribution of ‘cry’ among his top ten most popular works."
   ]
  },
  {
   "cell_type": "markdown",
   "metadata": {},
   "source": [
    "### PCA: Principal Component Analysis\n",
    "Collapses 400 dimensions (most frequent words) to two dimensions, and tries to retain that information (eigenvectors and eigenvalues)."
   ]
  },
  {
   "cell_type": "code",
   "execution_count": 34,
   "metadata": {},
   "outputs": [],
   "source": [
    "pca = PCA(n_components=2)"
   ]
  },
  {
   "cell_type": "code",
   "execution_count": 35,
   "metadata": {},
   "outputs": [],
   "source": [
    "shakespeareReduced = pca.fit_transform(shakespeareFreq)"
   ]
  },
  {
   "cell_type": "code",
   "execution_count": 36,
   "metadata": {},
   "outputs": [
    {
     "data": {
      "image/png": "[encoded data removed]",
      "text/plain": [
       "<Figure size 432x288 with 1 Axes>"
      ]
     },
     "metadata": {
      "needs_background": "light"
     },
     "output_type": "display_data"
    }
   ],
   "source": [
    "df = pd.DataFrame(shakespeareReduced, columns=['First Component', 'Second Component'], index=shakespeareTitles)\n",
    "ax = df.plot(kind='scatter', x='First Component', y='Second Component')\n",
    "for title, points in df.iterrows():\n",
    "    ax.annotate(title, points)"
   ]
  },
  {
   "cell_type": "markdown",
   "metadata": {},
   "source": [
    "#### PCA Conclusions"
   ]
  },
  {
   "attachments": {},
   "cell_type": "markdown",
   "metadata": {},
   "source": [
    "The results from the Principle Component Analysis are also extremely interesting for my analysis. Here, we see a circle being formed with all of the texts which further signals the diversity within Shakespeare's work. Overall, the stylometry of all of these texts is displayed though the circle being formed further signaling the diversity of his texts. Furthermore, given that Stylometry is commonly used for authorship detection, these findings are great because I was essentially arguing that his works are so diverse that it is hard to group them in one small clump and in fact his works are not clumped in one section, but rather in a circle. This circle further indicates the variety in stylometry among Shakespeare’s works."
   ]
  },
  {
   "cell_type": "markdown",
   "metadata": {},
   "source": [
    "#### Conclusion"
   ]
  },
  {
   "attachments": {},
   "cell_type": "markdown",
   "metadata": {},
   "source": [
    "Overall, Tf-IDF and PCA provided useful information which coincidentally supported my hypothesis. The notion that Shakespeare’s popularity can be directly correlated to the diversity of his works. As in lecture, it is likely for a work of a given author to congregate along a certain clump as it did with the works of Collins and Dickens. However, the distinction was *No Thoroughfare* where principle component analysis distinguished *No Thoroughfare * to be in between Wilkie Collins and Charles Dickens signifying the distinction in authorship between their works. Thus, given this relationship, Shakespeare’s top ten works formed, more or less, a circle in the principle component analysis symbolizing the diversity among his works."
   ]
  }
 ],
 "metadata": {
  "kernelspec": {
   "display_name": "Python 3",
   "language": "python",
   "name": "python3"
  },
  "language_info": {
   "codemirror_mode": {
    "name": "ipython",
    "version": 3
   },
   "file_extension": ".py",
   "mimetype": "text/x-python",
   "name": "python",
   "nbconvert_exporter": "python",
   "pygments_lexer": "ipython3",
   "version": "3.7.6"
  }
 },
 "nbformat": 4,
 "nbformat_minor": 4
}
